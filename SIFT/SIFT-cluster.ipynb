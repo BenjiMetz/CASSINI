{
 "cells": [
  {
   "cell_type": "code",
   "execution_count": 2,
   "metadata": {},
   "outputs": [],
   "source": [
    "import cv2\n",
    "import matplotlib.pyplot as plt\n",
    "import os\n",
    "import numpy as np\n",
    "import json\n",
    "import math"
   ]
  },
  {
   "cell_type": "code",
   "execution_count": 3,
   "metadata": {},
   "outputs": [],
   "source": [
    "h = 620\n",
    "w = 620\n",
    "\n",
    "def PxltoCoord(x, y, zoom, cntr_lat, cntr_lon):\n",
    "    parallelMultiplier = math.cos(cntr_lat * math.pi / 180)\n",
    "    degreesPerPixelX = 360 / math.pow(2, zoom + 8)\n",
    "    degreesPerPixelY = 360 / math.pow(2, zoom + 8) * parallelMultiplier\n",
    "    pointLat = cntr_lat - degreesPerPixelY * (y - h / 2)\n",
    "    pointLng = cntr_lon + degreesPerPixelX * (x - w / 2)\n",
    "\n",
    "    return [float(pointLat), float(pointLng)]\n",
    "\n",
    "\n",
    "# Because of non linear transformation (going from pixel to coordinates), function has to be solved for X and Y\n",
    "def CoordToPixel(pointLat, pointLon, test_lat, test_lon, zoom):\n",
    "    parallelMultiplier = math.cos(test_lat * math.pi / 180)\n",
    "    degreesPerPixelX = 360 / math.pow(2, zoom + 8)\n",
    "    degreesPerPixelY = 360 / math.pow(2, zoom + 8) * parallelMultiplier\n",
    "\n",
    "    Y = (test_lat - pointLat) / degreesPerPixelY + 0.5 * h\n",
    "    X = (pointLon - test_lon) / degreesPerPixelX + 0.5 * w\n",
    "    return X, Y"
   ]
  },
  {
   "cell_type": "code",
   "execution_count": 4,
   "metadata": {},
   "outputs": [],
   "source": [
    "def find_specific_lookup(data, search_image, template_name):\n",
    "    for entry in data:\n",
    "        if entry[\"search_image\"] == search_image:\n",
    "            for template in entry[\"templates\"]:\n",
    "                if template[\"template\"] == template_name:\n",
    "                    return template\n",
    "    return None"
   ]
  },
  {
   "cell_type": "code",
   "execution_count": 5,
   "metadata": {},
   "outputs": [
    {
     "name": "stdout",
     "output_type": "stream",
     "text": [
      "c:\\Users\\lucah\\Documents\\hackathon\\CASSINI\\Data/train_template_matching\n"
     ]
    }
   ],
   "source": [
    "from matplotlib import image as mpimg\n",
    "\n",
    "#get image pairs\n",
    "base_path = os.path.dirname(os.getcwd())\n",
    "\n",
    "#label path\n",
    "lbl_path = os.path.join(base_path, 'Data/labels/train_template_matching.json')\n",
    "\n",
    "#source and query images\n",
    "# s_img_path = os.path.join(base_path, 'Data/map_train/51.99908_4.373749.png')\n",
    "s_img_path = os.path.join(base_path, 'Data\\\\map_train\\\\51.998552_4.372891.png')\n",
    "q_img_path = os.path.join(base_path, 'Data/train_template_matching')\n",
    "\n",
    "#for now source path is constant\n",
    "s_img = cv2.imread(s_img_path)\n",
    "\n",
    "with open(lbl_path, 'r') as file:\n",
    "    label = json.load(file)\n",
    "\n",
    "images = []\n",
    "templates = []\n",
    "print(q_img_path)\n",
    "for file in os.listdir(q_img_path):\n",
    "    if file.endswith(\".jpg\") or file.endswith(\".png\") or file.endswith(\".jpeg\"):\n",
    "            q_img = cv2.imread(os.path.join(q_img_path, file))\n",
    "            # images.append([q_img[:, :, :3], s_img[:,:,:3]])\n",
    "            gps = find_specific_lookup(label, '51.998552_4.372891.png', file)\n",
    "\n",
    "            templates.append((q_img[:, :, :3], gps))"
   ]
  },
  {
   "cell_type": "code",
   "execution_count": 6,
   "metadata": {},
   "outputs": [],
   "source": [
    "def extract_features_for_templates(templates, source_image):\n",
    "    feature_list = []\n",
    "    label_list = []\n",
    "\n",
    "    sift = cv2.SIFT_create()\n",
    "    kp_source, des_source = sift.detectAndCompute(source_image, None)\n",
    "\n",
    "    for template, obj in templates:\n",
    "        kp_template, des_template = sift.detectAndCompute(template, None)\n",
    "\n",
    "        gps_coords = obj['gps_coords']\n",
    "        gps_pixel = CoordToPixel(gps_coords[0], gps_coords[1], 51.999080, 4.373749, 15)\n",
    "        # Match features\n",
    "        bf = cv2.BFMatcher()\n",
    "        matches = bf.knnMatch(des_template, des_source, k=2)\n",
    "\n",
    "        # Lowe's ratio test\n",
    "        good_matches = []\n",
    "        for m, n in matches:\n",
    "            if m.distance < 0.75 * n.distance:\n",
    "                good_matches.append(m)\n",
    "\n",
    "        good_matches = good_matches[:100]\n",
    "        # Extract matched keypoints\n",
    "        query_pts = np.float32([kp_template[m.queryIdx].pt for m in good_matches]).reshape(-1, 2)\n",
    "        dst_pts = np.float32([kp_source[m.trainIdx].pt for m in good_matches]).reshape(-1, 2)\n",
    "\n",
    "        # Flatten and combine features\n",
    "        src_flat = query_pts.flatten()\n",
    "        dst_flat = dst_pts.flatten()\n",
    "        input_features = np.concatenate([src_flat, dst_flat])\n",
    "\n",
    "        # Append to feature list\n",
    "        feature_list.append(input_features)\n",
    "        label_list.append(gps_pixel)  # GPS coordinates of this template image\n",
    "    max_len = max(len(features) for features in feature_list)\n",
    "    # max_len = 468\n",
    "    padded_features = [np.pad(features, (0, max_len - len(features))) for features in feature_list]\n",
    "\n",
    "    return np.array(padded_features), np.array(label_list)\n"
   ]
  },
  {
   "cell_type": "code",
   "execution_count": 26,
   "metadata": {},
   "outputs": [],
   "source": [
    "def extract_keypoint(template, source_image, sift):\n",
    "    kp_source, des_source = sift.detectAndCompute(source_image, None)\n",
    "\n",
    "    kp_template, des_template = sift.detectAndCompute(template[0], None)\n",
    "\n",
    "    # gps_coords = template[1]['gps_coords']\n",
    "    # gps_pixel = CoordToPixel(gps_coords[0], gps_coords[1], 51.999080, 4.373749, 15)\n",
    "    # Match features\n",
    "    bf = cv2.BFMatcher()\n",
    "    matches = bf.knnMatch(des_template, des_source, k=2)\n",
    "\n",
    "    # Lowe's ratio test\n",
    "    good_matches = []\n",
    "    for m, n in matches:\n",
    "        if m.distance < 0.75 * n.distance:\n",
    "            good_matches.append(m)\n",
    "\n",
    "    print(good_matches[0])\n",
    "\n",
    "    good_matches = good_matches[:100]\n",
    "    # Extract matched keypoints\n",
    "    query_pts = np.float32([kp_template[m.queryIdx].pt for m in good_matches]).reshape(-1, 2)\n",
    "    dst_pts = np.float32([kp_source[m.trainIdx].pt for m in good_matches]).reshape(-1, 2)\n",
    "\n",
    "    return dst_pts, query_pts\n",
    "        # Flatten and combine features\n",
    "\n",
    "        # dst_flat = dst_pts.flatten()\n",
    "        # input_features = np.concatenate([src_flat, dst_flat])\n",
    "        #\n",
    "        # # Append to feature list\n",
    "        # feature_list.append(input_features)\n",
    "        # label_list.append(gps_pixel)  # GPS coordinates of this template image\n",
    "    # max_len = max(len(features) for features in feature_list)\n",
    "    # # max_len = 468\n",
    "    # padded_features = [np.pad(features, (0, max_len - len(features))) for features in feature_list]\n"
   ]
  },
  {
   "cell_type": "code",
   "execution_count": 8,
   "metadata": {},
   "outputs": [],
   "source": [
    "def extract_keypoints(templates, source_image):\n",
    "    feature_list = []\n",
    "    label_list = []\n",
    "    src_flat = []\n",
    "    sift = cv2.SIFT_create()\n",
    "\n",
    "    for template in templates:\n",
    "        extract_keypoint(template, source_image, sift)"
   ]
  },
  {
   "cell_type": "code",
   "execution_count": null,
   "metadata": {},
   "outputs": [],
   "source": []
  },
  {
   "cell_type": "code",
   "execution_count": 9,
   "metadata": {},
   "outputs": [],
   "source": [
    "from sklearn import metrics\n",
    "from sklearn.cluster import DBSCAN\n",
    "\n",
    "def cluster_keypoints(keypoints_train, cluster_alg=None):\n",
    "\n",
    "    if cluster_alg is None:\n",
    "        cluster_alg = DBSCAN(eps=0.06, min_samples=8)\n",
    "    #keypoints_train = extract_keypoints(templates, s_img)\n",
    "    # db = DBSCAN(eps=0.1, min_samples=8).fit(keypoints_train/620)\n",
    "\n",
    "    clustering = cluster_alg.fit(keypoints_train/620)\n",
    "    labels = clustering.labels_\n",
    "\n",
    "    # Number of clusters in labels, ignoring noise if present.\n",
    "    # n_clusters_ = len(set(labels)) - (1 if -1 in labels else 0)\n",
    "    # n_noise_ = list(labels).count(-1)\n",
    "    # print(n_clusters_)\n",
    "    return labels"
   ]
  },
  {
   "cell_type": "code",
   "execution_count": 10,
   "metadata": {},
   "outputs": [],
   "source": [
    "from collections import Counter\n",
    "\n",
    "def retrieve_relevant_points(keypoints_train, labels):\n",
    "    counter = Counter(list(filter(lambda x: x >= 0, labels)))\n",
    "    if len(counter) == 0:\n",
    "        return []\n",
    "    largest_cluster = max(counter, key=counter.get)\n",
    "    # print(f\"counter: {counter}\")\n",
    "    # print(f\"largest_cluster: {largest_cluster}\")\n",
    "    cluster = []\n",
    "    for i in range(len(keypoints_train)):\n",
    "        if labels[i] == largest_cluster:\n",
    "            cluster.append(keypoints_train[i])\n",
    "    return cluster"
   ]
  },
  {
   "cell_type": "code",
   "execution_count": 12,
   "metadata": {},
   "outputs": [],
   "source": [
    "def get_pixel_average(coords):\n",
    "    if len(coords) == 0:\n",
    "        return np.array([])\n",
    "    return np.average(coords, axis=0)"
   ]
  },
  {
   "cell_type": "code",
   "execution_count": null,
   "metadata": {},
   "outputs": [
    {
     "name": "stdout",
     "output_type": "stream",
     "text": [
      "< cv2.DMatch 0000025904F98A50>\n"
     ]
    },
    {
     "data": {
      "image/png": "[encoded data removed]",
      "text/plain": [
       "<Figure size 640x480 with 1 Axes>"
      ]
     },
     "metadata": {},
     "output_type": "display_data"
    },
    {
     "name": "stdout",
     "output_type": "stream",
     "text": [
      "average_offset: [-35.86667  -41.770935]\n",
      "maximum_difference: [491.4771 593.6255]\n",
      "[ 0  0  0  0  0 -1  0 -1 -1  0  0  0  0  0  0 -1 -1  0  0 -1  0  0  0  0\n",
      "  0 -1  0  0 -1 -1  0  0  0 -1  0  0  0 -1  0  0  0  0 -1  0  0  0  0]\n",
      "[array([170.58417, 593.17084], dtype=float32), array([172.86496, 581.23645], dtype=float32), array([173.71753, 608.877  ], dtype=float32), array([173.71753, 608.877  ], dtype=float32), array([174.54543, 611.90125], dtype=float32), array([175.47531, 597.0568 ], dtype=float32), array([178.96616, 556.34705], dtype=float32), array([182.4758, 559.5556], dtype=float32), array([183.9473, 566.7149], dtype=float32), array([186.2068, 561.8992], dtype=float32), array([188.78871, 599.27106], dtype=float32), array([188.72156, 602.1658 ], dtype=float32), array([198.0211 , 599.79645], dtype=float32), array([197.74834, 616.0474 ], dtype=float32), array([199.83087, 555.074  ], dtype=float32), array([199.83087, 555.074  ], dtype=float32), array([201.42548, 609.63025], dtype=float32), array([203.12035, 557.4916 ], dtype=float32), array([204.29301, 553.08405], dtype=float32), array([207.42671, 555.15564], dtype=float32), array([207.42671, 555.15564], dtype=float32), array([210.57631, 607.99286], dtype=float32), array([211.91635, 564.00354], dtype=float32), array([211.91635, 564.00354], dtype=float32), array([214.70062, 567.4756 ], dtype=float32), array([216.84126, 608.2173 ], dtype=float32), array([216.55399, 557.5212 ], dtype=float32), array([219.41884, 577.79346], dtype=float32), array([219.41884, 577.79346], dtype=float32), array([219.662  , 553.87885], dtype=float32), array([220.06691, 603.99554], dtype=float32), array([224.37901, 564.83185], dtype=float32), array([224.37901, 564.83185], dtype=float32), array([230.675 , 560.3876], dtype=float32), array([231.40135, 601.9486 ], dtype=float32)]\n",
      "maximum_difference_cluster: [60.817184 62.96338 ]\n",
      "scale: [0.12374368 0.10606582]\n"
     ]
    },
    {
     "data": {
      "image/png": "[encoded data removed]",
      "text/plain": [
       "<Figure size 640x480 with 1 Axes>"
      ]
     },
     "metadata": {},
     "output_type": "display_data"
    },
    {
     "data": {
      "image/png": "[encoded data removed]",
      "text/plain": [
       "<Figure size 640x480 with 1 Axes>"
      ]
     },
     "metadata": {},
     "output_type": "display_data"
    },
    {
     "name": "stdout",
     "output_type": "stream",
     "text": [
      "[51.991998, 4.368894] -> (196.8703004444432, 578.035561525346) -> [51.991998, 4.368894]\n"
     ]
    }
   ],
   "source": [
    "# Testing cell!!! Throw in some random code and see what it does!\n",
    "\n",
    "template = templates[12] # random query image\n",
    "# print(template[1])\n",
    "\n",
    "sift = cv2.SIFT_create()\n",
    "keypoints_source, keypoints_query = extract_keypoint(template, s_img, sift)\n",
    "# print(keypoints_source)\n",
    "# print(len(keypoints_source))\n",
    "plt.scatter(keypoints_source[:, 0], keypoints_source[:, 1])\n",
    "plt.show()\n",
    "\n",
    "# Calculate how much the average is offset from the center and\n",
    "# the maximum difference in x and y for the query image\n",
    "average_offset = np.mean(keypoints_query, axis=0) - 310\n",
    "maximum_difference_query = np.max(keypoints_query, axis=0) - np.min(keypoints_query, axis=0)\n",
    "\n",
    "print(f\"average_offset: {average_offset}\")\n",
    "print(f\"maximum_difference: {maximum_difference_query}\")\n",
    "\n",
    "# Find the cluster of keypoints in the source image that match the query image\n",
    "cluster_labels = cluster_keypoints(keypoints_source)\n",
    "cluster_labels_filtered = retrieve_relevant_points(keypoints_source, cluster_labels)\n",
    "\n",
    "print(cluster_labels)\n",
    "print(cluster_labels_filtered)\n",
    "\n",
    "# Calculate the scale factor and the scaled offset via the ratio of the maximum difference\n",
    "# between the cluster and query image\n",
    "maximum_difference_cluster = np.max(cluster_labels_filtered, axis=0) - np.min(cluster_labels_filtered, axis=0)\n",
    "scale = maximum_difference_cluster / maximum_difference_query\n",
    "\n",
    "print(f\"maximum_difference_cluster: {maximum_difference_cluster}\")\n",
    "print(f\"scale: {scale}\")\n",
    "\n",
    "scaled_offset = average_offset * (maximum_difference_cluster / maximum_difference_query)\n",
    "\n",
    "actual_coords = template[1]['gps_coords']\n",
    "actual_pixel = CoordToPixel(actual_coords[0], actual_coords[1], 51.999080, 4.373749, 15)\n",
    "\n",
    "cluster_pixel = get_pixel_average(cluster_labels_filtered)\n",
    "cluster_pixel_corrected = cluster_pixel - scaled_offset\n",
    "\n",
    "# Plot only the points from the cluster, together with their (corrected) average and the actual pixel value\n",
    "plt.scatter(np.array(cluster_labels_filtered)[:, 0], np.array(cluster_labels_filtered)[:, 1])\n",
    "plt.scatter(actual_pixel[0], actual_pixel[1], c='r')\n",
    "plt.scatter(cluster_pixel[0], cluster_pixel[1], c='c')\n",
    "plt.scatter(cluster_pixel_corrected[0], cluster_pixel_corrected[1], c='y')\n",
    "plt.show()\n",
    "\n",
    "# Plot the query image with its keypoints and the center of the image in red\n",
    "plt.scatter(keypoints_query[:, 0], keypoints_query[:, 1])\n",
    "plt.scatter(average_offset[0] + 310, average_offset[1] + 310, c='c')\n",
    "plt.scatter(310, 310, c='r')\n",
    "plt.show()\n",
    "\n",
    "# Try plotting coord -> pixel -> coord, see if there's a drift\n",
    "init_coords = template[1]['gps_coords']\n",
    "actual_pixel = CoordToPixel(init_coords[0], init_coords[1], 51.999080, 4.373749, 15)\n",
    "calculated_coords = PxltoCoord(actual_pixel[0], actual_pixel[1], 15, 51.999080, 4.373749)\n",
    "\n",
    "print(f\"{init_coords} -> {actual_pixel} -> {calculated_coords}\") # seems just fine\n"
   ]
  },
  {
   "cell_type": "code",
   "execution_count": null,
   "metadata": {},
   "outputs": [],
   "source": []
  },
  {
   "cell_type": "code",
   "execution_count": null,
   "metadata": {},
   "outputs": [],
   "source": [
    "def offset_point_average(keypoints_query, keypoints_cluster, average_pixel):\n",
    "    average_offset = np.mean(keypoints_query, axis=0) - 310\n",
    "    # print(f\"average_offset: {average_offset}\")\n",
    "    maximum_difference_query = np.max(keypoints_query, axis=0) - np.min(keypoints_query, axis=0)\n",
    "    # print(f\"maximum_difference: {maximum_difference_query}\")\n",
    "\n",
    "    maximum_difference_cluster = np.max(keypoints_cluster, axis=0) - np.min(keypoints_cluster, axis=0)\n",
    "    # print(f\"maximum_difference_cluster: {maximum_difference_cluster}\")\n",
    "    # print(f\"scale: {maximum_difference_cluster / maximum_difference_query}\")\n",
    "    scaled_offset = average_offset * (maximum_difference_cluster / maximum_difference_query)\n",
    "\n",
    "    # print(f\"Scaled offset: {scaled_offset}\")\n",
    "\n",
    "    return average_pixel - scaled_offset"
   ]
  },
  {
   "cell_type": "code",
   "execution_count": null,
   "metadata": {},
   "outputs": [],
   "source": []
  },
  {
   "cell_type": "code",
   "execution_count": null,
   "metadata": {},
   "outputs": [],
   "source": []
  },
  {
   "cell_type": "code",
   "execution_count": null,
   "metadata": {},
   "outputs": [],
   "source": []
  },
  {
   "cell_type": "code",
   "execution_count": null,
   "metadata": {},
   "outputs": [],
   "source": [
    "from haversine import haversine, Unit\n",
    "\n",
    "\n",
    "def run_matching(center_lat, center_lon, zoom, templates_used=1000, plot_graph=False, calg=None):\n",
    "    # if calg is None:\n",
    "    #     calg = DBSCAN(eps=0.1, min_samples=8)\n",
    "    distances_meters = []\n",
    "    distances_pixels = []\n",
    "    # templates_selection = templates\n",
    "    sift = cv2.SIFT_create()\n",
    "    empty_points = 0\n",
    "    distance_too_large = 0\n",
    "    selected_templates = templates[:templates_used]\n",
    "\n",
    "    for i, template in enumerate(selected_templates):\n",
    "        if i % 50 == 0:\n",
    "            print(f\"Iteration {i}/{len(selected_templates)}; Empty points: {empty_points}; Distance too large: {distance_too_large}\")\n",
    "\n",
    "        keys_src, keys_qry = extract_keypoint(template, s_img, sift)\n",
    "        labels = cluster_keypoints(keys_src, cluster_alg=calg)\n",
    "        points = retrieve_relevant_points(keys_src, labels)\n",
    "\n",
    "        if len(points) == 0:\n",
    "            empty_points += 1\n",
    "            # print(keys)\n",
    "            # print(labels)\n",
    "            # print(points)\n",
    "            # print(avg_points)\n",
    "            # plt.scatter(keys[:, 0], keys[:, 1])\n",
    "            # plt.show()\n",
    "            continue\n",
    "\n",
    "        avg_points = get_pixel_average(points)\n",
    "        avg_points = offset_point_average(keys_qry, points, avg_points) # include offset due to mean being different!\n",
    "\n",
    "        # 51.998552_4.372891.png\n",
    "        predicted_coords = PxltoCoord(avg_points[0], avg_points[1], zoom, center_lat, center_lon)\n",
    "        actual_coords = template[1]['gps_coords']\n",
    "        distance_meters = haversine(predicted_coords, actual_coords, unit=Unit.METERS)\n",
    "\n",
    "        actual_pixel = CoordToPixel(actual_coords[0], actual_coords[1], center_lat, center_lon, zoom)\n",
    "        # Euclidean distance\n",
    "        # distance_pixel = math.sqrt((avg_points[0] - actual_pixel[0]) ** 2 + (avg_points[1] - actual_pixel[1]) ** 2)\n",
    "\n",
    "        # Directional distance in both x and y axis are kept separately for further analysis\n",
    "        distance_pixel = [avg_points[0] - actual_pixel[0], avg_points[1] - actual_pixel[1]]\n",
    "\n",
    "        distances_meters.append(distance_meters)\n",
    "        distances_pixels.append(distance_pixel)\n",
    "        # if distance > 200:\n",
    "        #     distance_too_large += 1\n",
    "        #     if plot_graph:\n",
    "        #         plt.scatter(keys[:, 0], keys[:, 1], c=labels)\n",
    "        #         plt.legend()\n",
    "        #         plt.scatter(avg_points[0], avg_points[1], c='r')\n",
    "        #         plt.scatter(actual_pixel[0], actual_pixel[1], c='g')\n",
    "        #         plt.show()\n",
    "        # else:\n",
    "        #     distances.append(distance)\n",
    "\n",
    "        # print(haversine(predicted_coords, actual_coords, unit=Unit.METERS))\n",
    "\n",
    "    return distances_meters, distances_pixels, empty_points, distance_too_large\n"
   ]
  },
  {
   "cell_type": "code",
   "execution_count": null,
   "metadata": {},
   "outputs": [
    {
     "name": "stdout",
     "output_type": "stream",
     "text": [
      "Iteration 0/100; Empty points: 0; Distance too large: 0\n",
      "Iteration 50/100; Empty points: 2; Distance too large: 0\n",
      "\n",
      "Empty points: 5\n",
      "Distance too large: 0\n",
      "\n",
      "Distance measurements in meters\n",
      "Average distance from pixel: 33.12558186378367\n",
      "Standard deviation: 7.133002332603957\n",
      "\n",
      "Distance measurements in horizontal pixels\n",
      "Average distance from pixel: -6.624387264251709\n",
      "Standard deviation: 4.89100456237793\n",
      "\n",
      "Distance measurements in vertical pixels\n",
      "Average distance from pixel: -7.623754978179932\n",
      "Standard deviation: 2.7407045364379883\n",
      "\n"
     ]
    }
   ],
   "source": [
    "center_lat = 51.999080\n",
    "center_lon = 4.373749\n",
    "zoom = 15\n",
    "\n",
    "distances_meters, disatnces_pixels, empty_points, distance_too_large = run_matching(center_lat, center_lon, zoom, 100)\n",
    "disatnces_pixels = np.array(disatnces_pixels)\n",
    "print()\n",
    "print(f\"Empty points: {empty_points}\")\n",
    "print(f\"Distance too large: {distance_too_large}\\n\")\n",
    "\n",
    "average_distance_meters = sum(distances_meters)/len(distances_meters)\n",
    "print(\"Distance measurements in meters\")\n",
    "print(f\"Average distance from pixel: {average_distance_meters}\")\n",
    "print(f\"Standard deviation: {np.std(distances_meters)}\\n\")\n",
    "\n",
    "print(\"Distance measurements in horizontal pixels\")\n",
    "print(f\"Average distance from pixel: {sum(disatnces_pixels[:, 0])/len(disatnces_pixels)}\")\n",
    "print(f\"Standard deviation: {np.std(disatnces_pixels[:, 0])}\\n\")\n",
    "\n",
    "print(\"Distance measurements in vertical pixels\")\n",
    "print(f\"Average distance from pixel: {sum(disatnces_pixels[:, 1])/len(disatnces_pixels)}\")\n",
    "print(f\"Standard deviation: {np.std(disatnces_pixels[:, 1])}\\n\")"
   ]
  },
  {
   "cell_type": "code",
   "execution_count": null,
   "metadata": {},
   "outputs": [],
   "source": []
  },
  {
   "cell_type": "code",
   "execution_count": null,
   "metadata": {},
   "outputs": [],
   "source": []
  },
  {
   "cell_type": "code",
   "execution_count": null,
   "metadata": {},
   "outputs": [],
   "source": []
  }
 ],
 "metadata": {
  "kernelspec": {
   "display_name": ".venv",
   "language": "python",
   "name": "python3"
  },
  "language_info": {
   "codemirror_mode": {
    "name": "ipython",
    "version": 3
   },
   "file_extension": ".py",
   "mimetype": "text/x-python",
   "name": "python",
   "nbconvert_exporter": "python",
   "pygments_lexer": "ipython3",
   "version": "3.12.6"
  }
 },
 "nbformat": 4,
 "nbformat_minor": 2
}
