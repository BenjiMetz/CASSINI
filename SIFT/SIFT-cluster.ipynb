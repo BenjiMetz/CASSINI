{
 "cells": [
  {
   "cell_type": "code",
   "execution_count": 24,
   "metadata": {
    "ExecuteTime": {
     "end_time": "2024-11-24T12:46:19.742632Z",
     "start_time": "2024-11-24T12:46:19.733391Z"
    }
   },
   "outputs": [],
   "source": [
    "import cv2\n",
    "import matplotlib.pyplot as plt\n",
    "import os\n",
    "import numpy as np\n",
    "import json\n",
    "import math"
   ]
  },
  {
   "cell_type": "code",
   "execution_count": 25,
   "metadata": {
    "ExecuteTime": {
     "end_time": "2024-11-24T12:46:20.119346Z",
     "start_time": "2024-11-24T12:46:20.102044Z"
    }
   },
   "outputs": [],
   "source": [
    "h = 620\n",
    "w = 620\n",
    "\n",
    "def PxltoCoord(x, y, zoom, cntr_lat, cntr_lon):\n",
    "    parallelMultiplier = math.cos(cntr_lat * math.pi / 180)\n",
    "    degreesPerPixelX = 360 / math.pow(2, zoom + 8)\n",
    "    degreesPerPixelY = 360 / math.pow(2, zoom + 8) * parallelMultiplier\n",
    "    pointLat = cntr_lat - degreesPerPixelY * (y - h / 2)\n",
    "    pointLng = cntr_lon + degreesPerPixelX * (x - w / 2)\n",
    "\n",
    "    return [float(pointLat), float(pointLng)]\n",
    "\n",
    "\n",
    "# Because of non linear transformation (going from pixel to coordinates), function has to be solved for X and Y\n",
    "def CoordToPixel(pointLat, pointLon, test_lat, test_lon, zoom):\n",
    "    parallelMultiplier = math.cos(test_lat * math.pi / 180)\n",
    "    degreesPerPixelX = 360 / math.pow(2, zoom + 8)\n",
    "    degreesPerPixelY = 360 / math.pow(2, zoom + 8) * parallelMultiplier\n",
    "\n",
    "    Y = (test_lat - pointLat) / degreesPerPixelY + 0.5 * h\n",
    "    X = (pointLon - test_lon) / degreesPerPixelX + 0.5 * w\n",
    "    return X, Y"
   ]
  },
  {
   "cell_type": "code",
   "execution_count": 26,
   "metadata": {
    "ExecuteTime": {
     "end_time": "2024-11-24T12:46:21.230701Z",
     "start_time": "2024-11-24T12:46:21.221643Z"
    }
   },
   "outputs": [],
   "source": [
    "def find_specific_lookup(data, search_image, template_name):\n",
    "    for entry in data:\n",
    "        if entry[\"search_image\"] == search_image:\n",
    "            for template in entry[\"templates\"]:\n",
    "                if template[\"template\"] == template_name:\n",
    "                    return template\n",
    "    return None"
   ]
  },
  {
   "cell_type": "code",
   "execution_count": 28,
   "metadata": {
    "ExecuteTime": {
     "end_time": "2024-11-24T12:46:58.185348Z",
     "start_time": "2024-11-24T12:46:50.797973Z"
    }
   },
   "outputs": [
    {
     "name": "stdout",
     "output_type": "stream",
     "text": [
      "C:\\Users\\drdur\\OneDrive\\Desktop\\CASSINI Hackathon\\CASSINI\\Data/train_template_matching\n"
     ]
    }
   ],
   "source": [
    "from matplotlib import image as mpimg\n",
    "\n",
    "#get image pairs\n",
    "base_path = os.path.dirname(os.getcwd())\n",
    "\n",
    "#label path\n",
    "lbl_path = os.path.join(base_path, 'Data/labels/train_template_matching.json')\n",
    "\n",
    "#source and query images\n",
    "s_img_path = os.path.join(base_path, 'Data/map_train/51.998552_4.372891.png')\n",
    "q_img_path = os.path.join(base_path, 'Data/train_template_matching')\n",
    "\n",
    "#for now source path is constant\n",
    "s_img = cv2.imread(s_img_path)\n",
    "\n",
    "with open(lbl_path, 'r') as file:\n",
    "    label = json.load(file)\n",
    "\n",
    "images = []\n",
    "templates = []\n",
    "print(q_img_path)\n",
    "for file in os.listdir(q_img_path):\n",
    "    if file.endswith(\".jpg\") or file.endswith(\".png\") or file.endswith(\".jpeg\"):\n",
    "            q_img = cv2.imread(os.path.join(q_img_path, file))\n",
    "            images.append([q_img[:, :, :3], s_img[:,:,:3]])\n",
    "            gps = find_specific_lookup(label, '51.998552_4.372891.png', file)\n",
    "\n",
    "            templates.append((q_img[:, :, :3], gps))"
   ]
  },
  {
   "cell_type": "code",
   "execution_count": 29,
   "metadata": {
    "ExecuteTime": {
     "end_time": "2024-11-24T12:46:58.200643Z",
     "start_time": "2024-11-24T12:46:58.188347Z"
    }
   },
   "outputs": [],
   "source": [
    "def extract_features_for_templates(templates, source_image):\n",
    "    feature_list = []\n",
    "    label_list = []\n",
    "\n",
    "    sift = cv2.SIFT_create()\n",
    "    kp_source, des_source = sift.detectAndCompute(source_image, None)\n",
    "\n",
    "    for template, obj in templates:\n",
    "        kp_template, des_template = sift.detectAndCompute(template, None)\n",
    "\n",
    "        gps_coords = obj['gps_coords']\n",
    "        gps_pixel = CoordToPixel(gps_coords[0], gps_coords[1], 51.999080, 4.373749, 15)\n",
    "        # Match features\n",
    "        bf = cv2.BFMatcher()\n",
    "        matches = bf.knnMatch(des_template, des_source, k=2)\n",
    "\n",
    "        # Lowe's ratio test\n",
    "        good_matches = []\n",
    "        for m, n in matches:\n",
    "            if m.distance < 0.75 * n.distance:\n",
    "                good_matches.append(m)\n",
    "\n",
    "        good_matches = good_matches[:100]\n",
    "        # Extract matched keypoints\n",
    "        query_pts = np.float32([kp_template[m.queryIdx].pt for m in good_matches]).reshape(-1, 2)\n",
    "        dst_pts = np.float32([kp_source[m.trainIdx].pt for m in good_matches]).reshape(-1, 2)\n",
    "\n",
    "        # Flatten and combine features\n",
    "        src_flat = query_pts.flatten()\n",
    "        dst_flat = dst_pts.flatten()\n",
    "        input_features = np.concatenate([src_flat, dst_flat])\n",
    "\n",
    "        # Append to feature list\n",
    "        feature_list.append(input_features)\n",
    "        label_list.append(gps_pixel)  # GPS coordinates of this template image\n",
    "    max_len = max(len(features) for features in feature_list)\n",
    "\n",
    "    padded_features = [np.pad(features, (0, max_len - len(features))) for features in feature_list]\n",
    "\n",
    "    return np.array(padded_features), np.array(label_list)\n"
   ]
  },
  {
   "cell_type": "code",
   "execution_count": 30,
   "metadata": {
    "ExecuteTime": {
     "end_time": "2024-11-24T12:46:58.215653Z",
     "start_time": "2024-11-24T12:46:58.202771Z"
    }
   },
   "outputs": [],
   "source": [
    "def extract_keypoint(template, source_image, sift):\n",
    "    kp_source, des_source = sift.detectAndCompute(source_image, None)\n",
    "\n",
    "    kp_template, des_template = sift.detectAndCompute(template[0], None)\n",
    "\n",
    "    gps_coords = template[1]['gps_coords']\n",
    "    gps_pixel = CoordToPixel(gps_coords[0], gps_coords[1], 51.999080, 4.373749, 15)\n",
    "    # Match features\n",
    "    bf = cv2.BFMatcher()\n",
    "    matches = bf.knnMatch(des_template, des_source, k=2)\n",
    "\n",
    "    # Lowe's ratio test\n",
    "    good_matches = []\n",
    "    for m, n in matches:\n",
    "        if m.distance < 0.75 * n.distance:\n",
    "            good_matches.append(m)\n",
    "\n",
    "    good_matches = good_matches[:100]\n",
    "    # Extract matched keypoints\n",
    "    query_pts = np.float32([kp_template[m.queryIdx].pt for m in good_matches]).reshape(-1, 2)\n",
    "    dst_pts = np.float32([kp_source[m.trainIdx].pt for m in good_matches]).reshape(-1, 2)\n",
    "\n",
    "    return dst_pts\n",
    "\n"
   ]
  },
  {
   "cell_type": "code",
   "execution_count": 31,
   "metadata": {
    "ExecuteTime": {
     "end_time": "2024-11-24T12:46:58.231750Z",
     "start_time": "2024-11-24T12:46:58.218745Z"
    }
   },
   "outputs": [],
   "source": [
    "def extract_keypoints(templates, source_image):\n",
    "    \n",
    "    sift = cv2.SIFT_create()\n",
    "\n",
    "    for template in templates:\n",
    "        extract_keypoint(template, source_image, sift)"
   ]
  },
  {
   "cell_type": "code",
   "execution_count": 32,
   "metadata": {
    "ExecuteTime": {
     "end_time": "2024-11-24T12:46:58.247091Z",
     "start_time": "2024-11-24T12:46:58.233771Z"
    }
   },
   "outputs": [],
   "source": [
    "\n",
    "from sklearn.cluster import DBSCAN\n",
    "\n",
    "def cluster_keypoints(keypoints_train, cluster_alg=None):\n",
    "\n",
    "    if cluster_alg is None:\n",
    "        cluster_alg = DBSCAN(eps=0.1, min_samples=8)\n",
    "    clustering = cluster_alg.fit(keypoints_train/620)\n",
    "    labels = clustering.labels_\n",
    "\n",
    "    return labels"
   ]
  },
  {
   "cell_type": "code",
   "execution_count": 33,
   "metadata": {
    "ExecuteTime": {
     "end_time": "2024-11-24T12:46:58.262696Z",
     "start_time": "2024-11-24T12:46:58.249092Z"
    }
   },
   "outputs": [],
   "source": [
    "from collections import Counter\n",
    "\n",
    "def retrieve_relevant_points(keypoints_train, labels):\n",
    "    counter = Counter(list(filter(lambda x: x >= 0, labels)))\n",
    "    if len(counter) == 0:\n",
    "        return []\n",
    "    largest_cluster = max(counter, key=counter.get)\n",
    "    cluster = []\n",
    "    for i in range(len(keypoints_train)):\n",
    "        if labels[i] == largest_cluster:\n",
    "            cluster.append(keypoints_train[i])\n",
    "    return cluster"
   ]
  },
  {
   "cell_type": "code",
   "execution_count": 34,
   "metadata": {
    "ExecuteTime": {
     "end_time": "2024-11-24T12:46:58.277864Z",
     "start_time": "2024-11-24T12:46:58.264975Z"
    }
   },
   "outputs": [],
   "source": [
    "def get_pixel_average(coords):\n",
    "    if len(coords) == 0:\n",
    "        return np.array([])\n",
    "    return np.average(coords, axis=0)"
   ]
  },
  {
   "cell_type": "code",
   "execution_count": 35,
   "metadata": {
    "ExecuteTime": {
     "end_time": "2024-11-24T12:46:58.293169Z",
     "start_time": "2024-11-24T12:46:58.279951Z"
    }
   },
   "outputs": [],
   "source": [
    "from haversine import haversine, Unit\n",
    "\n",
    "\n",
    "def run_matching(plot_graph=False, calg=None):\n",
    "    if calg is None:\n",
    "        calg = DBSCAN(eps=0.1, min_samples=8)\n",
    "    distances = []\n",
    "    # templates_selection = templates\n",
    "    sift = cv2.SIFT_create()\n",
    "    empty_points = 0\n",
    "    distance_too_large = 0\n",
    "\n",
    "\n",
    "    for i, template in enumerate(templates):\n",
    "        if i % 50 == 0:\n",
    "            print(f\"Iteration {i}/{len(templates)}; Empty points: {empty_points}; Distance too large: {distance_too_large}\")\n",
    "\n",
    "        keys = extract_keypoint(template, s_img, sift)\n",
    "        labels = cluster_keypoints(keys, cluster_alg=calg)\n",
    "        points = retrieve_relevant_points(keys, labels)\n",
    "        avg_points = get_pixel_average(points)\n",
    "        if len(points) == 0:\n",
    "            empty_points += 1\n",
    "\n",
    "            continue\n",
    "\n",
    "        predicted_coords = PxltoCoord(avg_points[0], avg_points[1], 15, 51.999080, 4.373749)\n",
    "        actual_coords = template[1]['gps_coords']\n",
    "        distance = haversine(predicted_coords, actual_coords, unit=Unit.METERS)\n",
    "        if distance > 200:\n",
    "            distance_too_large += 1\n",
    "            actual_pixel = CoordToPixel(actual_coords[0], actual_coords[1], 51.999080, 4.373749, 15)\n",
    "            if plot_graph:\n",
    "                plt.scatter(keys[:, 0], keys[:, 1], c=labels)\n",
    "                plt.legend()\n",
    "                plt.scatter(avg_points[0], avg_points[1], c='r')\n",
    "                plt.scatter(actual_pixel[0], actual_pixel[1], c='g')\n",
    "                plt.show()\n",
    "        else:\n",
    "            distances.append(distance)\n",
    "\n",
    "    return distances, empty_points, distance_too_large\n"
   ]
  },
  {
   "cell_type": "code",
   "execution_count": 36,
   "metadata": {
    "ExecuteTime": {
     "end_time": "2024-11-24T12:50:52.639552Z",
     "start_time": "2024-11-24T12:46:58.295170Z"
    }
   },
   "outputs": [
    {
     "name": "stdout",
     "output_type": "stream",
     "text": [
      "Iteration 0/1000; Empty points: 0; Distance too large: 0\n",
      "Iteration 50/1000; Empty points: 3; Distance too large: 0\n",
      "Iteration 100/1000; Empty points: 6; Distance too large: 0\n",
      "Iteration 150/1000; Empty points: 9; Distance too large: 0\n",
      "Iteration 200/1000; Empty points: 10; Distance too large: 0\n",
      "Iteration 250/1000; Empty points: 14; Distance too large: 0\n",
      "Iteration 300/1000; Empty points: 18; Distance too large: 0\n",
      "Iteration 350/1000; Empty points: 23; Distance too large: 0\n",
      "Iteration 400/1000; Empty points: 24; Distance too large: 0\n",
      "Iteration 450/1000; Empty points: 26; Distance too large: 0\n",
      "Iteration 500/1000; Empty points: 28; Distance too large: 0\n",
      "Iteration 550/1000; Empty points: 33; Distance too large: 0\n",
      "Iteration 600/1000; Empty points: 37; Distance too large: 0\n",
      "Iteration 650/1000; Empty points: 40; Distance too large: 0\n",
      "Iteration 700/1000; Empty points: 42; Distance too large: 0\n",
      "Iteration 750/1000; Empty points: 46; Distance too large: 0\n",
      "Iteration 800/1000; Empty points: 48; Distance too large: 0\n",
      "Iteration 850/1000; Empty points: 50; Distance too large: 0\n",
      "Iteration 900/1000; Empty points: 56; Distance too large: 0\n",
      "Iteration 950/1000; Empty points: 58; Distance too large: 0\n",
      "Average distance from pixel: 37.47776015186745\n",
      "Empty points: 64\n",
      "Distance too large: 0\n",
      "Standard deviation: 16.707762755292816\n"
     ]
    }
   ],
   "source": [
    "distances, empty_points, distance_too_large = run_matching()\n",
    "average_distance = sum(distances)/len(distances)\n",
    "print(f\"Average distance from pixel: {average_distance}\")\n",
    "print(f\"Empty points: {empty_points}\")\n",
    "print(f\"Distance too large: {distance_too_large}\")\n",
    "print(f\"Standard deviation: {np.std(distances)}\")"
   ]
  },
  {
   "cell_type": "code",
   "execution_count": null,
   "metadata": {},
   "outputs": [],
   "source": []
  },
  {
   "cell_type": "code",
   "execution_count": null,
   "metadata": {},
   "outputs": [],
   "source": []
  },
  {
   "cell_type": "code",
   "execution_count": null,
   "metadata": {},
   "outputs": [],
   "source": []
  }
 ],
 "metadata": {
  "kernelspec": {
   "display_name": ".venv",
   "language": "python",
   "name": "python3"
  },
  "language_info": {
   "codemirror_mode": {
    "name": "ipython",
    "version": 3
   },
   "file_extension": ".py",
   "mimetype": "text/x-python",
   "name": "python",
   "nbconvert_exporter": "python",
   "pygments_lexer": "ipython3",
   "version": "3.12.6"
  }
 },
 "nbformat": 4,
 "nbformat_minor": 2
}
